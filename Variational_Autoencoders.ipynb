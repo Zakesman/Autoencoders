{
  "nbformat": 4,
  "nbformat_minor": 0,
  "metadata": {
    "colab": {
      "name": "Untitled0.ipynb",
      "provenance": [],
      "authorship_tag": "ABX9TyNOIPgUxJlDGizOgInx8E1f",
      "include_colab_link": true
    },
    "kernelspec": {
      "name": "python3",
      "display_name": "Python 3"
    }
  },
  "cells": [
    {
      "cell_type": "markdown",
      "metadata": {
        "id": "view-in-github",
        "colab_type": "text"
      },
      "source": [
        "<a href=\"https://colab.research.google.com/github/Zakesman/Autoencoders/blob/main/Variational_Autoencoders.ipynb\" target=\"_parent\"><img src=\"https://colab.research.google.com/assets/colab-badge.svg\" alt=\"Open In Colab\"/></a>"
      ]
    },
    {
      "cell_type": "markdown",
      "metadata": {
        "id": "lsWJ5GK3NOSq"
      },
      "source": [
        "Variational Autoencoders"
      ]
    },
    {
      "cell_type": "code",
      "metadata": {
        "id": "nu_HJ1g5NZkU"
      },
      "source": [
        "import numpy as np\n",
        "import matplotlib.pyplot as plt\n",
        "import tensorflow as tf\n"
      ],
      "execution_count": 1,
      "outputs": []
    },
    {
      "cell_type": "code",
      "metadata": {
        "id": "uurCe9G2NjLy"
      },
      "source": [
        "# Import MNIST data\n",
        "from tf.examples.tutorials.mnist import input_data\n",
        "database = input_data.read_data_sets(\"\")"
      ],
      "execution_count": null,
      "outputs": []
    }
  ]
}