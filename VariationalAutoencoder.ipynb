{
  "nbformat": 4,
  "nbformat_minor": 0,
  "metadata": {
    "colab": {
      "name": "Untitled",
      "provenance": [],
      "collapsed_sections": [],
      "authorship_tag": "ABX9TyMuijekj1ekNnptNfx6iQM1",
      "include_colab_link": true
    },
    "kernelspec": {
      "name": "python3",
      "display_name": "Python 3"
    }
  },
  "cells": [
    {
      "cell_type": "markdown",
      "metadata": {
        "id": "view-in-github",
        "colab_type": "text"
      },
      "source": [
        "<a href=\"https://colab.research.google.com/github/Zakesman/Autoencoders/blob/main/VariationalAutoencoder.ipynb\" target=\"_parent\"><img src=\"https://colab.research.google.com/assets/colab-badge.svg\" alt=\"Open In Colab\"/></a>"
      ]
    },
    {
      "cell_type": "markdown",
      "metadata": {
        "id": "lsWJ5GK3NOSq"
      },
      "source": [
        "Variational Autoencoders"
      ]
    },
    {
      "cell_type": "code",
      "metadata": {
        "id": "nu_HJ1g5NZkU"
      },
      "source": [
        "import numpy as np\n",
        "import matplotlib.pyplot as plt\n",
        "import tensorflow as tf\n",
        "from tensorflow import keras"
      ],
      "execution_count": 10,
      "outputs": []
    },
    {
      "cell_type": "code",
      "metadata": {
        "id": "tC3ciJFAorWk"
      },
      "source": [
        ""
      ],
      "execution_count": 2,
      "outputs": []
    },
    {
      "cell_type": "code",
      "metadata": {
        "id": "uurCe9G2NjLy"
      },
      "source": [
        "# Import MNIST data\n",
        "\"\"\"\n",
        "from tensorflow.examples.tutorials.mnist import input_data\n",
        "#database = input_data.read_data_sets(\"content/sample_data\", one_hot = True)\n",
        "\"\"\" \n",
        "\n",
        "database = tf.keras.datasets.mnist\n",
        "(x_train,y_train),(x_test,y_test) = database.load_data()\n",
        "x_train, x_test = x_train / 255.0, x_test / 255.0\n",
        "\"\"\"\n",
        "#Just for testing purposes that the correct data was pulled\n",
        "img = x_train[4]\n",
        "plt.imshow(img)\n",
        "plt.show()\n",
        "print(y_train[4])\n",
        "\"\"\" \n",
        "# Parameters for neural network\n",
        "learning_param = 0.001\n",
        "epochs = 30000\n",
        "batch_size = 32\n",
        "\n",
        "# Network_parameters\n",
        "image_dimension = 784 # image is of size 28 x 28\n",
        "neural_network_dimension = 512  # dimension of the encoder and decoder layers of the NN\n",
        "\n",
        "# Change this value for latent space effect on visualisation of reconstructed data\n",
        "latent_variable_dimension = 2   #the dimension (no of units) in each of the mu and sigma layer of the NN\n",
        "\n",
        "# Initialization\n",
        "# We Xavier initialization of the neural network\n",
        "def xavier(input_shape):\n",
        "  val = tf.random.normal(shape = input_shape,stddev = 1./tf.sqrt(input_shape[0]/2.))\n",
        "  return val\n",
        "\n"
      ],
      "execution_count": 15,
      "outputs": []
    },
    {
      "cell_type": "code",
      "metadata": {
        "id": "_Iv7Dur8SXj3"
      },
      "source": [
        "# Weight and Bias Dictionaries\n",
        "Weight = { \"weight_matrix_encoder_hidden\":tf.Variable(xavier([image_dimension,neural_network_dimension])),\n",
        "           \"weight_mean_hidden\":tf.Variable(xavier([neural_network_dimension, latent_variable_dimension])),\n",
        "           \"weight_std_hidden\":tf.Variable(xavier([neural_network_dimension, latent_variable_dimension])),\n",
        "           \"weight_matrix_decoder_hidden\":tf.Variable(xavier([latent_variable_dimension,neural_network_dimension])),\n",
        "           \"weight_decoder\":tf.Variable(xavier([neural_network_dimension,image_dimension]))   \n",
        "}\n",
        "\n",
        "Bias = {\"bias_matrix_encoder_hidden\":tf.Variable(xavier([neural_network_dimension])),\n",
        "        \"bias_mean_hidden\":tf.Variable(xavier([latent_variable_dimension])),\n",
        "        \"bias_std_hidden\":tf.Variable(xavier([latent_variable_dimension])),\n",
        "        \"bias_matrix_decoder_hidden\":tf.Variable(xavier([neural_network_dimension])),\n",
        "        \"bias_decoder\":tf.Variable(xavier([image_dimension]))    \n",
        "}\n",
        "\n",
        "\n",
        "\n"
      ],
      "execution_count": 16,
      "outputs": []
    },
    {
      "cell_type": "code",
      "metadata": {
        "id": "0mdYQQAiOzZP"
      },
      "source": [
        "# Building the computational graph for the variational autoencoder\n",
        "#Encoder\n"
      ],
      "execution_count": null,
      "outputs": []
    }
  ]
}